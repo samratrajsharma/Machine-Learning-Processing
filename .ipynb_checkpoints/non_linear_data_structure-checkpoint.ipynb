{
 "cells": [
  {
   "cell_type": "markdown",
   "metadata": {},
   "source": [
    "# Non - Linear Data Structure\n",
    "\n",
    "Instructor - Satya Pattnaik\n",
    "\n",
    "## Definition\n",
    "A form of data structure where the data elements don't stay arranged linearly or sequentially"
   ]
  },
  {
   "cell_type": "markdown",
   "metadata": {},
   "source": [
    "# Trees\n",
    "Instructor - Satya Pattnaik"
   ]
  },
  {
   "cell_type": "markdown",
   "metadata": {},
   "source": [
    "### Binary Tree"
   ]
  },
  {
   "cell_type": "markdown",
   "metadata": {},
   "source": [
    "```mermaid\n",
    "  graph TD;\n",
    "      1-->2;\n",
    "      1-->3;\n",
    "      2-->4;\n",
    "      2-->5;\n",
    "      3-->6;\n",
    "```"
   ]
  },
  {
   "cell_type": "markdown",
   "metadata": {},
   "source": [
    "### Ternary Tree\n",
    "Every node can have 0 to 3 children nodes"
   ]
  },
  {
   "cell_type": "markdown",
   "metadata": {},
   "source": [
    "```mermaid\n",
    "  graph TD;\n",
    "      1-->2;\n",
    "      1-->3;\n",
    "      1-->4;\n",
    "      2-->5;\n",
    "      2-->6;\n",
    "      2-->7;\n",
    "```"
   ]
  },
  {
   "cell_type": "markdown",
   "metadata": {},
   "source": [
    "## Binary Tree\n",
    "<pre>\n",
    "\n",
    "          \n",
    "        [parent node]\n",
    "          \n",
    "            1     \n",
    "           / \\\n",
    "          /   \\\n",
    "         /     \\\n",
    "        /       \\\n",
    "       2         3\n",
    "\n",
    "[left child]     [right child]\n",
    "</pre>"
   ]
  },
  {
   "cell_type": "markdown",
   "metadata": {},
   "source": [
    "## Terminology"
   ]
  },
  {
   "cell_type": "markdown",
   "metadata": {},
   "source": [
    "### Parent to Grand Parent to Grand Children "
   ]
  },
  {
   "cell_type": "markdown",
   "metadata": {},
   "source": [
    "<pre>\n",
    "                            [parent node]\n",
    "\n",
    "                                 1       [grand parent of 4,5]\n",
    "                                / \\\n",
    "                               /   \\\n",
    "                              /     \\\n",
    "                             2       3\n",
    "                            / \\\n",
    "                           /   \\\n",
    "                          /     \\\n",
    "                         4      5 [grand children of 1]\n",
    "\n",
    "</pre>"
   ]
  },
  {
   "cell_type": "markdown",
   "metadata": {},
   "source": [
    "- Parent Node - 1\n",
    "    - Children\n",
    "        - Node - 2\n",
    "        - Node - 3 \n",
    "    - Grand Children\n",
    "        - Node - 4\n",
    "        - node - 5\n",
    "\n",
    "- Parent Node - 2\n",
    "    - Children\n",
    "        - Node 4\n",
    "        - Node 5"
   ]
  },
  {
   "cell_type": "markdown",
   "metadata": {},
   "source": [
    "### Root to Internal Node to Leaf Node"
   ]
  },
  {
   "cell_type": "markdown",
   "metadata": {},
   "source": [
    "<pre>\n",
    "                              [root]\n",
    "\n",
    "                                 1       \n",
    "                                / \\\n",
    "                               /   \\\n",
    "                              /     \\\n",
    "                             2       3          [internal nodes]\n",
    "                            / \\       \\\n",
    "                           /   \\       \\\n",
    "                          /     \\       \\\n",
    "                         4      5        6\n",
    "                         \n",
    "                      [leaf]   [leaf]   [leaf]\n",
    "</pre>"
   ]
  },
  {
   "cell_type": "markdown",
   "metadata": {},
   "source": [
    "- root \n",
    "    - Node 1\n",
    "- internal nodes \n",
    "    - Node 2\n",
    "    - Node 3\n",
    "- leaf nodes\n",
    "    - Node 4\n",
    "    - Node 5\n",
    "    - Node 6"
   ]
  },
  {
   "cell_type": "markdown",
   "metadata": {},
   "source": [
    "### Ancestor - Descendant - Sibling"
   ]
  },
  {
   "cell_type": "markdown",
   "metadata": {},
   "source": [
    "```mermaid\n",
    "  graph TD;\n",
    "      1-->2;\n",
    "      1-->3;\n",
    "      2-->4;\n",
    "      2-->5;\n",
    "      3-->6;\n",
    "```"
   ]
  },
  {
   "cell_type": "markdown",
   "metadata": {},
   "source": [
    "<pre>\n",
    "\n",
    "                                 1       \n",
    "                                / \\\n",
    "                               /   \\\n",
    "                              /     \\\n",
    "                             2       3\n",
    "                            / \\       \\\n",
    "                           /   \\       \\\n",
    "                          /     \\       \\\n",
    "                         4      5        6\n",
    "                         \n",
    "</pre>"
   ]
  },
  {
   "cell_type": "markdown",
   "metadata": {},
   "source": [
    "- Ancestor\n",
    "    - Node 4: Ancestors are Node 1 and Node 2\n",
    "    - Node 5: Ancestors are Node 1 and Node 2\n",
    "    - Node 6: Ancestors are Node 1 and Node 3\n",
    "    - Node 2: Ancestor is Node 1\n",
    "    - Node 3: Ancestor is Node 1\n",
    "\n",
    "- Descendant\n",
    "    - Node 1: Descendants are Node 2, Node 3, Node 4,Node 5, Node 6\n",
    "    - Node 2: Descendants are Node 4 and Node 5\n",
    "    - Node 3: Descnedants are Node 6\n",
    "\n",
    "- Siblings(If two nodes have same parent)\n",
    "    - Node 4 and Node 5 are siblings\n",
    "    - Node 2 and Node 3 are siblings"
   ]
  },
  {
   "cell_type": "markdown",
   "metadata": {},
   "source": [
    "### Depth of a Tree\n",
    "**Length of the path from a Node `x` to Node `root`.**\n",
    "\n",
    "PS: Depth of  `root` = `0`"
   ]
  },
  {
   "cell_type": "markdown",
   "metadata": {},
   "source": [
    "Lenght of the path from Node x to Node y = Number of edges between them"
   ]
  },
  {
   "cell_type": "markdown",
   "metadata": {},
   "source": [
    "```mermaid\n",
    "  graph TD;\n",
    "      1-->2;\n",
    "      1-->3;\n",
    "      2-->4;\n",
    "      2-->5;\n",
    "      3-->6;\n",
    "```"
   ]
  },
  {
   "cell_type": "markdown",
   "metadata": {},
   "source": [
    "<pre>\n",
    "                              [root]\n",
    "\n",
    "                                 1          [Depth - 0]\n",
    "                                / \\\n",
    "                               /   \\\n",
    "                              /     \\\n",
    "                             2       3      [Depth - 1]\n",
    "                            / \\       \\\n",
    "                           /   \\       \\\n",
    "                          /     \\       \\\n",
    "                         4      5        6  [Depth - 2]\n",
    "                         \n",
    "                      [leaf]   [leaf]   [leaf]\n",
    "</pre>"
   ]
  },
  {
   "cell_type": "markdown",
   "metadata": {},
   "source": [
    "```mermaid\n",
    "  graph TD;\n",
    "      1-->2;\n",
    "      1-->3;\n",
    "      2-->4;\n",
    "      2-->5;\n",
    "      3-->6;\n",
    "      6-->7;\n",
    "```"
   ]
  },
  {
   "cell_type": "markdown",
   "metadata": {},
   "source": [
    "<pre>\n",
    "                              [root]\n",
    "\n",
    "                                 1                [Depth - 0]\n",
    "                                / \\\n",
    "                               /   \\\n",
    "                              /     \\\n",
    "                             2       3            [Depth - 1]\n",
    "                            / \\       \\\n",
    "                           /   \\       \\\n",
    "                          /     \\       \\\n",
    "                         4      5        6        [Depth - 2] \n",
    "                                          \\\n",
    "                                           \\\n",
    "                                            \\\n",
    "                                             7    [Depth - 3]\n",
    "</pre>"
   ]
  },
  {
   "cell_type": "markdown",
   "metadata": {},
   "source": [
    "### Level of Tree\n",
    "The count of all the edges from Node `x` to it's `root.`"
   ]
  },
  {
   "cell_type": "markdown",
   "metadata": {},
   "source": [
    "```mermaid\n",
    "  graph TD;\n",
    "      1-->2;\n",
    "      1-->3;\n",
    "      2-->4;\n",
    "      2-->5;\n",
    "      3-->6;\n",
    "```"
   ]
  },
  {
   "cell_type": "markdown",
   "metadata": {},
   "source": [
    "<pre>\n",
    "                              [root]\n",
    "\n",
    "                                 1          [Level - 0]\n",
    "                                / \\\n",
    "                               /   \\\n",
    "                              /     \\\n",
    "                             2       3      [Level - 1]\n",
    "                            / \\       \\\n",
    "                           /   \\       \\\n",
    "                          /     \\       \\\n",
    "                         4      5        6  [Level - 2]\n",
    "                         \n",
    "                      [leaf]   [leaf]   [leaf]\n",
    "</pre>"
   ]
  },
  {
   "cell_type": "markdown",
   "metadata": {},
   "source": [
    "### Height of Tree\n",
    "`Defintion` : Height of a Node is the same as the length of the path from that Node to its deepest descendant.\n",
    "\n",
    "Properties :\n",
    "- Height of Tree = Height of Root Node\n",
    "- Height of leaf Nodes = `0`"
   ]
  },
  {
   "cell_type": "markdown",
   "metadata": {},
   "source": [
    "```mermaid\n",
    "  graph TD;\n",
    "      1-->2;\n",
    "      1-->3;\n",
    "      2-->4;\n",
    "      2-->5;\n",
    "      3-->6;\n",
    "```"
   ]
  },
  {
   "cell_type": "markdown",
   "metadata": {},
   "source": [
    "<pre>\n",
    "                              [root]\n",
    "\n",
    "                                 1          [Height - 2]\n",
    "                                / \\\n",
    "                               /   \\\n",
    "                              /     \\\n",
    "                             2       3      [Height - 1]\n",
    "                            / \\       \\\n",
    "                           /   \\       \\\n",
    "                          /     \\       \\\n",
    "                         4      5        6  [Height - 0]\n",
    "                         \n",
    "                      [leaf]   [leaf]   [leaf]\n",
    "</pre>"
   ]
  },
  {
   "cell_type": "markdown",
   "metadata": {},
   "source": [
    "```mermaid\n",
    "  graph TD;\n",
    "      1-->2;\n",
    "      1-->3;\n",
    "      2-->4;\n",
    "      2-->5;\n",
    "      3-->6;\n",
    "      6-->7;\n",
    "```"
   ]
  },
  {
   "cell_type": "markdown",
   "metadata": {},
   "source": [
    "<pre>\n",
    "                              [root]\n",
    "\n",
    "                                 1                [Height - 3]\n",
    "                                / \\\n",
    "                               /   \\\n",
    "                              /     \\\n",
    "                             2       3            [Height - 2]\n",
    "                            / \\       \\\n",
    "                           /   \\       \\\n",
    "                          /     \\       \\\n",
    "                         4      5        6        [Height - 1] \n",
    "                                          \\\n",
    "                                           \\\n",
    "                                            \\\n",
    "                                             7    [Height - 0]\n",
    "</pre>"
   ]
  },
  {
   "cell_type": "markdown",
   "metadata": {},
   "source": [
    "## Types of Binary Tree\n",
    "- Complete Binary Tree\n",
    "- Full Binary Tree"
   ]
  },
  {
   "cell_type": "markdown",
   "metadata": {},
   "source": [
    "### Complete Binary Tree\n",
    "\n",
    "- Every level except the last is filled.\n",
    "- If last is not filled then all nodes are as far left as possible"
   ]
  },
  {
   "cell_type": "markdown",
   "metadata": {},
   "source": [
    "<pre>\n",
    "                              [root]\n",
    "\n",
    "                                 1          \n",
    "                                / \\\n",
    "                               /   \\\n",
    "                              /     \\\n",
    "                             2       3      \n",
    "                            / \\     / \\\n",
    "                           /   \\   /   \\\n",
    "                          /     \\ /     \\\n",
    "                         4      5 6      7\n",
    "                        /  \n",
    "                       /\n",
    "                      /\n",
    "                     8    \n",
    "                     \n",
    "</pre>"
   ]
  },
  {
   "cell_type": "markdown",
   "metadata": {},
   "source": [
    "<pre>\n",
    "                              [root]\n",
    "\n",
    "                                 1          \n",
    "                                / \\\n",
    "                               /   \\\n",
    "                              /     \\\n",
    "                             2       3      \n",
    "                            / \\      /\\\n",
    "                           /   \\    /  \\ \n",
    "                          /     \\  /    \\\n",
    "                         4      5 7      8\n",
    "</pre>"
   ]
  },
  {
   "cell_type": "markdown",
   "metadata": {},
   "source": [
    "NOT Complete\n",
    "<pre>\n",
    "                              [root]\n",
    "\n",
    "                                 1          \n",
    "                                / \\\n",
    "                               /   \\\n",
    "                              /     \\\n",
    "                             2       3      \n",
    "                            / \\      /\n",
    "                           /   \\    /  \n",
    "                          /     \\  /    \n",
    "                         4      5 7      \n",
    "</pre>"
   ]
  },
  {
   "cell_type": "markdown",
   "metadata": {},
   "source": [
    "#### Full Binary Tree\n",
    "Every Node has `0` or `2` children"
   ]
  },
  {
   "cell_type": "markdown",
   "metadata": {},
   "source": [
    "<pre>\n",
    "                              [root]\n",
    "\n",
    "                                 1               [# of children(1) = 2]\n",
    "                                / \\\n",
    "                               /   \\\n",
    "                              /     \\\n",
    "                             2       3           [# of children(2) = 2,# of children(3) = 2]\n",
    "                            / \\      /\\\n",
    "                           /   \\    /  \\\n",
    "                          /     \\  /    \\\n",
    "                         4      5 11     6       [# of children(4) = 2,# of children(6) = 2, # of children(5/11) = 0,]\n",
    "                        / \\             / \\\n",
    "                       /   \\           /   \\\n",
    "                      /     \\         /     \\\n",
    "                     7       8       9      10   [# of children of each leaf node = 0]\n",
    "                     \n",
    "</pre>"
   ]
  },
  {
   "cell_type": "markdown",
   "metadata": {},
   "source": [
    "#### `NOT` a full binary tree\n",
    "<pre>\n",
    "                              [root]\n",
    "\n",
    "                                 1               [# of children(1) = 2]\n",
    "                                / \\\n",
    "                               /   \\\n",
    "                              /     \\\n",
    "                             2       3           [# of children(2) = 2,# of children(3) = 2]\n",
    "                            / \\      /\\\n",
    "                           /   \\    /  \\\n",
    "                          /     \\  /    \\\n",
    "                         4      5 11     6       [# of children(4) = 2,# of children(6) = 2, # of children(5/11) = 0,]\n",
    "                        / \\             / \\\n",
    "                       /   \\           /   \\\n",
    "                      /     \\         /     \\\n",
    "                     7       8       9      10   [# of children(7) = 1]\n",
    "                    /\n",
    "                   /\n",
    "                  /\n",
    "                 20   \n",
    "</pre>"
   ]
  },
  {
   "cell_type": "markdown",
   "metadata": {},
   "source": [
    "## Implementation(Binary Tree)"
   ]
  },
  {
   "cell_type": "markdown",
   "metadata": {},
   "source": [
    "### Tree Node"
   ]
  },
  {
   "cell_type": "code",
   "execution_count": 2,
   "metadata": {},
   "outputs": [],
   "source": [
    "class Node:\n",
    "    def __init__(self,data) -> None:\n",
    "\n",
    "        self.data = data #1\n",
    "        self.left_child = None #Node(2)\n",
    "        self.right_child = None #Node (3)"
   ]
  },
  {
   "cell_type": "code",
   "execution_count": null,
   "metadata": {},
   "outputs": [],
   "source": []
  },
  {
   "cell_type": "markdown",
   "metadata": {},
   "source": [
    "```mermaid\n",
    "  graph TD;\n",
    "      1-->2;\n",
    "      1-->3;\n",
    "```"
   ]
  },
  {
   "cell_type": "code",
   "execution_count": 3,
   "metadata": {},
   "outputs": [],
   "source": [
    "node = Node(1)\n",
    "\n",
    "left_child = Node(2)\n",
    "right_child = Node(3)\n",
    "\n",
    "node.left_child = left_child\n",
    "node.right_child = right_child"
   ]
  },
  {
   "cell_type": "code",
   "execution_count": 4,
   "metadata": {},
   "outputs": [
    {
     "name": "stdout",
     "output_type": "stream",
     "text": [
      "Root is Node 1, left child is 2 , right child is 3\n"
     ]
    }
   ],
   "source": [
    "print(f\"Root is Node {node.data}, left child is {node.left_child.data} , right child is {node.right_child.data}\")"
   ]
  },
  {
   "cell_type": "code",
   "execution_count": null,
   "metadata": {},
   "outputs": [],
   "source": []
  },
  {
   "cell_type": "code",
   "execution_count": null,
   "metadata": {},
   "outputs": [],
   "source": []
  },
  {
   "cell_type": "markdown",
   "metadata": {},
   "source": [
    "```mermaid\n",
    "  graph TD;\n",
    "      1-->2;\n",
    "      1-->3;\n",
    "      2-->4;\n",
    "      2-->5;\n",
    "      3-->6;\n",
    "      3-->7;\n",
    "```"
   ]
  },
  {
   "cell_type": "code",
   "execution_count": 5,
   "metadata": {},
   "outputs": [],
   "source": [
    "node = Node(1)\n",
    "\n",
    "left_child = Node(2)\n",
    "right_child = Node(3)\n",
    "\n",
    "node.left_child = left_child\n",
    "node.right_child = right_child"
   ]
  },
  {
   "cell_type": "code",
   "execution_count": 6,
   "metadata": {},
   "outputs": [],
   "source": [
    "node4 = Node(4)\n",
    "node5 = Node(5)\n",
    "node6 = Node(6)\n",
    "node7 = Node(7)"
   ]
  },
  {
   "cell_type": "code",
   "execution_count": 7,
   "metadata": {},
   "outputs": [],
   "source": [
    "#left_child = Node(2)\n",
    "left_child.left_child = node4\n",
    "left_child.right_child = node5"
   ]
  },
  {
   "cell_type": "code",
   "execution_count": 8,
   "metadata": {},
   "outputs": [],
   "source": [
    "#right_child = Node(3)\n",
    "right_child.left_child = node6\n",
    "right_child.right_child = node7"
   ]
  },
  {
   "cell_type": "code",
   "execution_count": 14,
   "metadata": {},
   "outputs": [
    {
     "data": {
      "text/plain": [
       "(1, 2, 3, 4, 5, 6, 7)"
      ]
     },
     "execution_count": 14,
     "metadata": {},
     "output_type": "execute_result"
    }
   ],
   "source": [
    "node.data,\\\n",
    "node.left_child.data,\\\n",
    "node.right_child.data,\\\n",
    "node.left_child.left_child.data,\\\n",
    "node.left_child.right_child.data,\\\n",
    "node.right_child.left_child.data,\\\n",
    "node.right_child.right_child.data"
   ]
  },
  {
   "cell_type": "markdown",
   "metadata": {},
   "source": [
    "```mermaid\n",
    "  graph TD;\n",
    "      1-->2;\n",
    "      1-->3;\n",
    "      2-->4;\n",
    "      2-->5;\n",
    "      3-->6;\n",
    "      3-->7;\n",
    "```"
   ]
  },
  {
   "cell_type": "markdown",
   "metadata": {},
   "source": [
    "### Binary Tree"
   ]
  },
  {
   "cell_type": "code",
   "execution_count": 15,
   "metadata": {},
   "outputs": [],
   "source": [
    "class BinaryTree:\n",
    "    def __init__(self,root) -> None:\n",
    "        self.root = root"
   ]
  },
  {
   "cell_type": "code",
   "execution_count": 16,
   "metadata": {},
   "outputs": [],
   "source": [
    "binary_tree = BinaryTree(node)"
   ]
  },
  {
   "cell_type": "code",
   "execution_count": 18,
   "metadata": {},
   "outputs": [
    {
     "data": {
      "text/plain": [
       "(1, 2, 3, 4, 5, 6, 7)"
      ]
     },
     "execution_count": 18,
     "metadata": {},
     "output_type": "execute_result"
    }
   ],
   "source": [
    "binary_tree.root.data,\\\n",
    "binary_tree.root.left_child.data,\\\n",
    "binary_tree.root.right_child.data,\\\n",
    "binary_tree.root.left_child.left_child.data,\\\n",
    "binary_tree.root.left_child.right_child.data,\\\n",
    "binary_tree.root.right_child.left_child.data,\\\n",
    "binary_tree.root.right_child.right_child.data"
   ]
  },
  {
   "cell_type": "markdown",
   "metadata": {},
   "source": [
    "```mermaid\n",
    "  graph TD;\n",
    "      1-->2;\n",
    "      1-->3;\n",
    "      2-->4;\n",
    "      2-->5;\n",
    "      3-->6;\n",
    "      3-->7;\n",
    "```"
   ]
  },
  {
   "cell_type": "markdown",
   "metadata": {},
   "source": [
    "## Traversals\n",
    "\n",
    "- Depth First Traversal\n",
    "- Breadth First Traversal"
   ]
  },
  {
   "cell_type": "markdown",
   "metadata": {},
   "source": [
    "### Depth First Traversals\n",
    "- Pre-Order\n",
    "- In-Order\n",
    "- Post-Order"
   ]
  },
  {
   "cell_type": "markdown",
   "metadata": {},
   "source": [
    "#### In Order Tree Traversal\n",
    "- Traverse Left\n",
    "- Root\n",
    "- Traverse Right"
   ]
  },
  {
   "cell_type": "markdown",
   "metadata": {},
   "source": [
    "##### Example **[1]**"
   ]
  },
  {
   "cell_type": "markdown",
   "metadata": {},
   "source": [
    "```mermaid\n",
    "  graph TD;\n",
    "      1-->2;\n",
    "      1-->3;\n",
    "```"
   ]
  },
  {
   "cell_type": "markdown",
   "metadata": {},
   "source": [
    "- Left:2\n",
    "- Root:1\n",
    "- Right:3\n",
    "\n",
    "In-Order Traversal : `2 -> 1 -> 3`"
   ]
  },
  {
   "cell_type": "markdown",
   "metadata": {},
   "source": [
    "##### Example **[2]**"
   ]
  },
  {
   "cell_type": "markdown",
   "metadata": {},
   "source": [
    "```mermaid\n",
    "  graph TD;\n",
    "      1-->2;\n",
    "      1-->3;\n",
    "      2-->4;\n",
    "      2-->5;\n",
    "      3-->6;\n",
    "      3-->7;\n",
    "```"
   ]
  },
  {
   "cell_type": "markdown",
   "metadata": {},
   "source": [
    "##### Left Subtree\n",
    "```mermaid\n",
    "  graph TD;\n",
    "      2-->4;\n",
    "      2-->5;\n",
    "```\n",
    "\n",
    "- Left:4\n",
    "- Root:2\n",
    "- Right:4\n",
    "\n",
    "In-Order Traversal : `4 -> 2 -> 5`"
   ]
  },
  {
   "cell_type": "markdown",
   "metadata": {},
   "source": [
    "##### Right Subtree\n",
    "```mermaid\n",
    "  graph TD;\n",
    "      3-->6;\n",
    "      3-->7;\n",
    "```\n",
    "\n",
    "- Left:6\n",
    "- Root:3\n",
    "- Right:7\n",
    "\n",
    "In-Order Taversal: `6 -> 3 -> 7`"
   ]
  },
  {
   "cell_type": "markdown",
   "metadata": {},
   "source": [
    "- Left: Subtree `2[4,5]` #Step 1\n",
    "    - Left: 4 #Step 2\n",
    "    - Root: 2 #Step 3\n",
    "    - Right: 5 #Step 4\n",
    "- Root: `1` #Step 5\n",
    "- Right: Subtree `3[6,7]`\n",
    "    - Left:6 #Step 6\n",
    "    - Root:3 #Step 7\n",
    "    - Right:7 #Step 8"
   ]
  },
  {
   "cell_type": "markdown",
   "metadata": {},
   "source": [
    "Inorder Traversal: `4 -> 2 -> 5 -> 1 -> 6 -> 3 -> 7`"
   ]
  },
  {
   "cell_type": "code",
   "execution_count": 20,
   "metadata": {},
   "outputs": [
    {
     "data": {
      "text/plain": [
       "(1, 2, 3, 4, 5, 6, 7)"
      ]
     },
     "execution_count": 20,
     "metadata": {},
     "output_type": "execute_result"
    }
   ],
   "source": [
    "binary_tree.root.data,\\\n",
    "binary_tree.root.left_child.data,\\\n",
    "binary_tree.root.right_child.data,\\\n",
    "binary_tree.root.left_child.left_child.data,\\\n",
    "binary_tree.root.left_child.right_child.data,\\\n",
    "binary_tree.root.right_child.left_child.data,\\\n",
    "binary_tree.root.right_child.right_child.data"
   ]
  },
  {
   "cell_type": "code",
   "execution_count": 22,
   "metadata": {},
   "outputs": [],
   "source": [
    "def in_order(tree_root):\n",
    "    #Left -> Root -> Right\n",
    "    if tree_root: \n",
    "        in_order(tree_root.left_child)\n",
    "        print(tree_root.data)\n",
    "        in_order(tree_root.right_child)"
   ]
  },
  {
   "cell_type": "markdown",
   "metadata": {},
   "source": [
    "```mermaid\n",
    "  graph TD;\n",
    "      1-->2;\n",
    "      1-->3;\n",
    "```"
   ]
  },
  {
   "cell_type": "markdown",
   "metadata": {},
   "source": [
    "- in_order(tree_root):\n",
    "    - in_order(tree_root.left_child) #2\n",
    "        - in_order(None)\n",
    "        - print(2)\n",
    "        - in_order(None)\n",
    "    - print(1)\n",
    "    - in_order(tree_root.right_child) #3\n",
    "        - in_order(None)\n",
    "        - print(3)\n",
    "        - in_order(3)"
   ]
  },
  {
   "cell_type": "code",
   "execution_count": 23,
   "metadata": {},
   "outputs": [
    {
     "name": "stdout",
     "output_type": "stream",
     "text": [
      "4\n",
      "2\n",
      "5\n",
      "1\n",
      "6\n",
      "3\n",
      "7\n"
     ]
    }
   ],
   "source": [
    "in_order(binary_tree.root)"
   ]
  },
  {
   "cell_type": "markdown",
   "metadata": {},
   "source": [
    "Inorder Traversal: `4 -> 2 -> 5 -> 1 -> 6 -> 3 -> 7`"
   ]
  },
  {
   "cell_type": "markdown",
   "metadata": {},
   "source": [
    "#### Pre Order Tree Traversal\n",
    "\n",
    "- Root\n",
    "- Left\n",
    "- Right"
   ]
  },
  {
   "cell_type": "markdown",
   "metadata": {},
   "source": [
    "**Example [1]**"
   ]
  },
  {
   "cell_type": "markdown",
   "metadata": {},
   "source": [
    "```mermaid\n",
    "  graph TD;\n",
    "      1-->2;\n",
    "      1-->3;\n",
    "```"
   ]
  },
  {
   "cell_type": "markdown",
   "metadata": {},
   "source": [
    "Pre-Order Traversal : `1 -> 2 -> 3`"
   ]
  },
  {
   "cell_type": "markdown",
   "metadata": {},
   "source": [
    "**Example [2]**\n",
    "\n",
    "Root -> Left -> Right"
   ]
  },
  {
   "cell_type": "markdown",
   "metadata": {},
   "source": [
    "```mermaid\n",
    "  graph TD;\n",
    "      1-->2;\n",
    "      1-->3;\n",
    "      2-->4;\n",
    "      2-->5;\n",
    "      3-->6;\n",
    "      3-->7;\n",
    "```"
   ]
  },
  {
   "cell_type": "markdown",
   "metadata": {},
   "source": [
    "Sequence: `1 -> 2 -> 4 -> 5 -> 3 -> 6 -> 7`"
   ]
  },
  {
   "cell_type": "code",
   "execution_count": 24,
   "metadata": {},
   "outputs": [],
   "source": [
    "def pre_order(tree_root):\n",
    "    #Root -> Left -> Right\n",
    "    if tree_root:\n",
    "        print(tree_root.data)\n",
    "        pre_order(tree_root.left_child)\n",
    "        pre_order(tree_root.right_child)"
   ]
  },
  {
   "cell_type": "code",
   "execution_count": 26,
   "metadata": {},
   "outputs": [
    {
     "name": "stdout",
     "output_type": "stream",
     "text": [
      "1\n",
      "2\n",
      "4\n",
      "5\n",
      "3\n",
      "6\n",
      "7\n"
     ]
    }
   ],
   "source": [
    "pre_order(binary_tree.root)"
   ]
  },
  {
   "cell_type": "markdown",
   "metadata": {},
   "source": [
    "#### Post Order\n",
    "- Left\n",
    "- Right\n",
    "- Root"
   ]
  },
  {
   "cell_type": "markdown",
   "metadata": {},
   "source": [
    "Example **[1]**"
   ]
  },
  {
   "cell_type": "markdown",
   "metadata": {},
   "source": [
    "```mermaid\n",
    "  graph TD;\n",
    "      1-->2;\n",
    "      1-->3;\n",
    "```"
   ]
  },
  {
   "cell_type": "markdown",
   "metadata": {},
   "source": [
    "Post Order: `2 -> 3 -> 1`"
   ]
  },
  {
   "cell_type": "markdown",
   "metadata": {},
   "source": [
    "Example **[2]**\n",
    "\n",
    "Left -> Right -> Root"
   ]
  },
  {
   "cell_type": "markdown",
   "metadata": {},
   "source": [
    "```mermaid\n",
    "  graph TD;\n",
    "      1-->2;\n",
    "      1-->3;\n",
    "      2-->4;\n",
    "      2-->5;\n",
    "      3-->6;\n",
    "      3-->7;\n",
    "```"
   ]
  },
  {
   "cell_type": "markdown",
   "metadata": {},
   "source": [
    "4 -> 5 -> 2 -> 6 -> 7 -> 3 -> 1"
   ]
  },
  {
   "cell_type": "code",
   "execution_count": 27,
   "metadata": {},
   "outputs": [],
   "source": [
    "def post_order(tree_root):\n",
    "\n",
    "    #Left -> Right -> Root\n",
    "    if tree_root:\n",
    "        post_order(tree_root.left_child)\n",
    "        post_order(tree_root.right_child)\n",
    "        print(tree_root.data)"
   ]
  },
  {
   "cell_type": "code",
   "execution_count": 28,
   "metadata": {},
   "outputs": [
    {
     "name": "stdout",
     "output_type": "stream",
     "text": [
      "4\n",
      "5\n",
      "2\n",
      "6\n",
      "7\n",
      "3\n",
      "1\n"
     ]
    }
   ],
   "source": [
    "post_order(binary_tree.root)"
   ]
  },
  {
   "cell_type": "markdown",
   "metadata": {},
   "source": [
    "### Breadth First Traversals(Level Order)\n"
   ]
  },
  {
   "cell_type": "markdown",
   "metadata": {},
   "source": [
    "```mermaid\n",
    "  graph TD;\n",
    "      1-->2;\n",
    "      1-->3;\n",
    "```"
   ]
  },
  {
   "cell_type": "markdown",
   "metadata": {},
   "source": [
    "BFS: `1 -> 2 -> 3`"
   ]
  },
  {
   "cell_type": "markdown",
   "metadata": {},
   "source": [
    "```mermaid\n",
    "  graph TD;\n",
    "      1-->2;\n",
    "      1-->3;\n",
    "      2-->4;\n",
    "      2-->5;\n",
    "      3-->6;\n",
    "      3-->7;\n",
    "```"
   ]
  },
  {
   "cell_type": "markdown",
   "metadata": {},
   "source": [
    "BFS : `1 -> 2 -> 3 -> 4 ->5 -> 6 -> 7`"
   ]
  },
  {
   "cell_type": "markdown",
   "metadata": {},
   "source": [
    "```mermaid\n",
    "  graph TD;\n",
    "      1-->2;\n",
    "      1-->3;\n",
    "      2-->4;\n",
    "      2-->5;\n",
    "      3-->6;\n",
    "      3-->7;\n",
    "      4-->8;\n",
    "      4-->9\n",
    "```"
   ]
  },
  {
   "cell_type": "markdown",
   "metadata": {},
   "source": [
    "1 \n",
    "\n",
    "2 3\n",
    "\n",
    "4 5 6 7\n",
    "\n",
    "8 9"
   ]
  },
  {
   "cell_type": "markdown",
   "metadata": {},
   "source": [
    "1 -> 2 -> 3 -> 4 -> 5 -> 6 -> 7 ->8 -> 9"
   ]
  },
  {
   "cell_type": "markdown",
   "metadata": {},
   "source": [
    "<pre>\n",
    "                              [root]\n",
    "\n",
    "                                 1          [Level - 0]\n",
    "                                / \\\n",
    "                               /   \\\n",
    "                              /     \\\n",
    "                             2       3      [Level - 1]\n",
    "                            / \\       \\\n",
    "                           /   \\       \\\n",
    "                          /     \\       \\\n",
    "                         4      5        6  [Level - 2]\n",
    "                         \n",
    "                      [leaf]   [leaf]   [leaf]\n",
    "</pre>"
   ]
  },
  {
   "cell_type": "markdown",
   "metadata": {},
   "source": [
    "traversal = [1,2,3,4,5,6]\n",
    "temp = 6"
   ]
  },
  {
   "cell_type": "markdown",
   "metadata": {},
   "source": [
    "```mermaid\n",
    "  graph TD;\n",
    "      1-->2;\n",
    "      1-->3;\n",
    "      2-->4;\n",
    "      2-->5;\n",
    "      3-->6;\n",
    "      3-->7;\n",
    "      4-->8;\n",
    "      4-->9\n",
    "```"
   ]
  },
  {
   "cell_type": "markdown",
   "metadata": {},
   "source": [
    "temp = 7\n",
    "traversed = [1,2,3,4,5,6,7,8,9]\n"
   ]
  },
  {
   "cell_type": "code",
   "execution_count": 33,
   "metadata": {},
   "outputs": [],
   "source": [
    "class Queue:\n",
    "    def __init__(self) -> None:\n",
    "        self.q_item = []\n",
    "\n",
    "    def enqueue(self,new_value):\n",
    "        self.q_item.append(new_value)\n",
    "\n",
    "    def dequeue(self):\n",
    "        return self.q_item.pop(0) #Pop the front element\n",
    "\n",
    "    def rear(self):\n",
    "        self.q_item[-1]\n",
    "\n",
    "    def front(self):\n",
    "        self.q_item[0]\n",
    "\n",
    "    def is_empty(self):\n",
    "        return len(self.q_item) == 0"
   ]
  },
  {
   "cell_type": "code",
   "execution_count": 29,
   "metadata": {},
   "outputs": [],
   "source": [
    "class Node:\n",
    "    def __init__(self,data) -> None:\n",
    "\n",
    "        self.data = data #1\n",
    "        self.left_child = None #Node(2)\n",
    "        self.right_child = None #Node (3)\n",
    "class BinaryTree:\n",
    "    def __init__(self,root) -> None:\n",
    "        self.root = root\n",
    "\n"
   ]
  },
  {
   "cell_type": "markdown",
   "metadata": {},
   "source": [
    "```mermaid\n",
    "  graph TD;\n",
    "      1-->2;\n",
    "      1-->3;\n",
    "      2-->4;\n",
    "      2-->5;\n",
    "      3-->6;\n",
    "      3-->7;\n",
    "```"
   ]
  },
  {
   "cell_type": "code",
   "execution_count": 34,
   "metadata": {},
   "outputs": [],
   "source": [
    "def bfs(tree_root):\n",
    "\n",
    "    q = Queue()\n",
    "\n",
    "    q.enqueue(tree_root) \n",
    "\n",
    "    while not q.is_empty():\n",
    "        temp_node = q.dequeue() #Node(1) #Node(2)\n",
    "        print(temp_node.data)\n",
    "\n",
    "        if temp_node.left_child:#temp_node.left_child is not None\n",
    "            q.enqueue(temp_node.left_child)\n",
    "        \n",
    "        if temp_node.right_child:\n",
    "            q.enqueue(temp_node.right_child)"
   ]
  },
  {
   "cell_type": "code",
   "execution_count": 35,
   "metadata": {},
   "outputs": [
    {
     "name": "stdout",
     "output_type": "stream",
     "text": [
      "1\n",
      "2\n",
      "3\n",
      "4\n",
      "5\n",
      "6\n",
      "7\n"
     ]
    }
   ],
   "source": [
    "bfs(binary_tree.root)"
   ]
  },
  {
   "cell_type": "markdown",
   "metadata": {},
   "source": [
    "1 -> 2 -> 3->4-> 5-> 6->7"
   ]
  },
  {
   "cell_type": "markdown",
   "metadata": {},
   "source": [
    "## Binary Search Trees(Sub Case of a Binary Tree)\n",
    "Tree in Ordered Form(Binary Search Tree Property/BST Property)\n",
    "- Left Child to have value less than it's parent.\n",
    "- Right Child to have value greater than parent."
   ]
  },
  {
   "cell_type": "markdown",
   "metadata": {},
   "source": [
    "<pre>\n",
    "                                    15\n",
    "                                    /\\    \n",
    "                                   /  \\\n",
    "                                  /    \\\n",
    "                                 /      \\ \n",
    "                                10      20\n",
    "                                /\\      /\\\n",
    "                               /  \\    /  \\\n",
    "                              /    \\  /    \\\n",
    "                             5     12 16   25\n",
    "\n",
    "</pre>"
   ]
  },
  {
   "cell_type": "markdown",
   "metadata": {},
   "source": [
    "## Implementation(Binary Search Tree)"
   ]
  },
  {
   "cell_type": "markdown",
   "metadata": {},
   "source": [
    "# Graphs"
   ]
  },
  {
   "cell_type": "markdown",
   "metadata": {},
   "source": [
    "```mermaid\n",
    "  graph TD;\n",
    "      0---2;\n",
    "      0---1;\n",
    "      1---2;\n",
    "      1---3;\n",
    "      2---4;\n",
    "      3---4;\n",
    "```"
   ]
  },
  {
   "cell_type": "markdown",
   "metadata": {},
   "source": [
    "## Definition(Graph)\n",
    "Graph(Edges, Vertices)\n",
    "- Edges - Set of Edges\n",
    "- Vertices - Set of Nodes"
   ]
  },
  {
   "cell_type": "markdown",
   "metadata": {},
   "source": [
    "<pre>\n",
    "\n",
    "\n",
    "                        0\n",
    "                       / \\\n",
    "                      /   \\\n",
    "                     /     \\\n",
    "                    1 ----- 2\n",
    "                    |       |\n",
    "                    |       |\n",
    "                    |       |\n",
    "                    3 ----- 4\n",
    " \n",
    "</pre>"
   ]
  },
  {
   "cell_type": "markdown",
   "metadata": {},
   "source": [
    "## Representation of Graphs-\n",
    "- Adjacency Matrix\n",
    "- Adjacency List"
   ]
  },
  {
   "cell_type": "code",
   "execution_count": null,
   "metadata": {},
   "outputs": [],
   "source": []
  },
  {
   "cell_type": "markdown",
   "metadata": {},
   "source": [
    "```mermaid\n",
    "  graph TD;\n",
    "      Stop0---Stop2;\n",
    "      Stop0---Stop1;\n",
    "      Stop1---Stop2;\n",
    "      Stop1---Stop3;\n",
    "      Stop2---Stop4;\n",
    "      Stop3---Stop4;\n",
    "```"
   ]
  },
  {
   "cell_type": "markdown",
   "metadata": {},
   "source": [
    "```mermaid\n",
    "  graph TD;\n",
    "      Stop0---Stop1; \n",
    "      Stop1---Stop3;\n",
    "      Stop3---Stop4;\n",
    "```"
   ]
  },
  {
   "cell_type": "markdown",
   "metadata": {},
   "source": [
    "<pre>\n",
    "\n",
    "\n",
    "                        0\n",
    "                       / \\\n",
    "                      /   \\\n",
    "                     /     \\\n",
    "                    1 ----- 2\n",
    "                    |       |\n",
    "                    |       |\n",
    "                    |       |\n",
    "                    3 ----- 4\n",
    " \n",
    "</pre>"
   ]
  },
  {
   "cell_type": "markdown",
   "metadata": {},
   "source": [
    "### Adjacency Matrix"
   ]
  },
  {
   "cell_type": "markdown",
   "metadata": {},
   "source": [
    "|Node| 0|1|2|3|4|\n",
    "| --- | --- |--- |--- |--- |--- |\n",
    "|0|0|1|1|0|0|\n",
    "|1|1|0|1|1|0|\n",
    "|2|1|1|0|0|1|\n",
    "|3|0|1|0|0|1|\n",
    "|4|0|0|1|1|0|"
   ]
  },
  {
   "cell_type": "markdown",
   "metadata": {},
   "source": [
    "g[0][1] = 1<br>\n",
    "g[1][0] = 1 "
   ]
  },
  {
   "cell_type": "code",
   "execution_count": 48,
   "metadata": {},
   "outputs": [],
   "source": [
    "class Graph:\n",
    "    #Initialization of Graph\n",
    "    def __init__(self,num_nodes) -> None:\n",
    "        self.num_nodes = num_nodes\n",
    "        self.adj_matrix = [[0 for _ in range(5)] for _ in range(5)]\n",
    "\n",
    "    def create_edge(self, vertex1, vertex2):\n",
    "        self.adj_matrix[vertex1][vertex2] = 1\n",
    "        self.adj_matrix[vertex2][vertex1] = 1"
   ]
  },
  {
   "cell_type": "code",
   "execution_count": 50,
   "metadata": {},
   "outputs": [
    {
     "data": {
      "text/plain": [
       "[[0, 0, 0, 0, 0],\n",
       " [0, 0, 0, 0, 0],\n",
       " [0, 0, 0, 0, 0],\n",
       " [0, 0, 0, 0, 0],\n",
       " [0, 0, 0, 0, 0]]"
      ]
     },
     "execution_count": 50,
     "metadata": {},
     "output_type": "execute_result"
    }
   ],
   "source": [
    "g = Graph(5)\n",
    "g.adj_matrix"
   ]
  },
  {
   "cell_type": "code",
   "execution_count": 42,
   "metadata": {},
   "outputs": [
    {
     "data": {
      "text/plain": [
       "[[0, 0, 0, 0, 0],\n",
       " [0, 0, 0, 0, 0],\n",
       " [0, 0, 0, 0, 0],\n",
       " [0, 0, 0, 0, 0],\n",
       " [0, 0, 0, 0, 0]]"
      ]
     },
     "execution_count": 42,
     "metadata": {},
     "output_type": "execute_result"
    }
   ],
   "source": [
    "g = [[0 for _ in range(5)] for _ in range(5)]\n",
    "g"
   ]
  },
  {
   "cell_type": "code",
   "execution_count": 51,
   "metadata": {},
   "outputs": [
    {
     "data": {
      "text/plain": [
       "[[0, 1, 1, 0, 0],\n",
       " [1, 0, 1, 1, 0],\n",
       " [1, 1, 0, 0, 1],\n",
       " [0, 1, 0, 0, 1],\n",
       " [0, 0, 1, 1, 0]]"
      ]
     },
     "execution_count": 51,
     "metadata": {},
     "output_type": "execute_result"
    }
   ],
   "source": [
    "g.create_edge(0,1)\n",
    "g.create_edge(0,2)\n",
    "g.create_edge(1,2)\n",
    "g.create_edge(1,3)\n",
    "g.create_edge(2,4)\n",
    "g.create_edge(3,4)\n",
    "g.adj_matrix"
   ]
  },
  {
   "cell_type": "markdown",
   "metadata": {},
   "source": [
    "|Node| 0|1|2|3|4|\n",
    "| --- | --- |--- |--- |--- |--- |\n",
    "|0|0|1|1|0|0|\n",
    "|1|1|0|1|1|0|\n",
    "|2|1|1|0|0|1|\n",
    "|3|0|1|0|0|1|\n",
    "|4|0|0|1|1|0|"
   ]
  },
  {
   "cell_type": "code",
   "execution_count": 45,
   "metadata": {},
   "outputs": [],
   "source": [
    "#Edge between 0 and 1\n",
    "g[0][1] = 1\n",
    "g[1][0] = 1"
   ]
  },
  {
   "cell_type": "code",
   "execution_count": 46,
   "metadata": {},
   "outputs": [],
   "source": [
    "#Edge between 2 and 4\n",
    "g[2][4] = 1\n",
    "g[4][2] = 1"
   ]
  },
  {
   "cell_type": "code",
   "execution_count": 47,
   "metadata": {},
   "outputs": [
    {
     "data": {
      "text/plain": [
       "[[0, 1, 0, 0, 0],\n",
       " [1, 0, 0, 0, 0],\n",
       " [0, 0, 0, 0, 1],\n",
       " [0, 0, 0, 0, 0],\n",
       " [0, 0, 1, 0, 0]]"
      ]
     },
     "execution_count": 47,
     "metadata": {},
     "output_type": "execute_result"
    }
   ],
   "source": [
    "g"
   ]
  },
  {
   "cell_type": "code",
   "execution_count": 41,
   "metadata": {},
   "outputs": [
    {
     "data": {
      "text/plain": [
       "[[0, 1, 0, 0, 0],\n",
       " [1, 0, 0, 0, 0],\n",
       " [0, 0, 0, 0, 0],\n",
       " [0, 0, 0, 0, 0],\n",
       " [0, 0, 0, 0, 0]]"
      ]
     },
     "execution_count": 41,
     "metadata": {},
     "output_type": "execute_result"
    }
   ],
   "source": [
    "g[0][1]=1\n",
    "g[1][0]=1\n",
    "g"
   ]
  },
  {
   "cell_type": "markdown",
   "metadata": {},
   "source": [
    "<pre>\n",
    "\n",
    "\n",
    "                        0\n",
    "                       / \\\n",
    "                      /   \\\n",
    "                     /     \\\n",
    "                    1 ----- 2\n",
    "                    |       |\n",
    "                    |       |\n",
    "                    |       |\n",
    "                    3 ----- 4\n",
    " \n",
    "</pre>"
   ]
  },
  {
   "cell_type": "markdown",
   "metadata": {},
   "source": [
    "### Adjacency List"
   ]
  },
  {
   "cell_type": "markdown",
   "metadata": {},
   "source": [
    "|Vertex| Adj List|\n",
    "| ---  | ---     |\n",
    "|0| 2 -> 1|\n",
    "|1| 3 ->2 -> 0|\n",
    "|2| 4 -> 1 ->0\n",
    "|3| 4 -> 1|\n",
    "|4| 3 -> 2|"
   ]
  },
  {
   "cell_type": "markdown",
   "metadata": {},
   "source": []
  }
 ],
 "metadata": {
  "kernelspec": {
   "display_name": "mlenv",
   "language": "python",
   "name": "python3"
  },
  "language_info": {
   "codemirror_mode": {
    "name": "ipython",
    "version": 3
   },
   "file_extension": ".py",
   "mimetype": "text/x-python",
   "name": "python",
   "nbconvert_exporter": "python",
   "pygments_lexer": "ipython3",
   "version": "3.10.0"
  }
 },
 "nbformat": 4,
 "nbformat_minor": 2
}
