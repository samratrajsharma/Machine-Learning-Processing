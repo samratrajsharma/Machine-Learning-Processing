{
 "cells": [
  {
   "cell_type": "markdown",
   "metadata": {},
   "source": [
    "# Assignment (Exploration,Pipeline)\n",
    "- Data : https://www.kaggle.com/datasets/lakshmi25npathi/bike-sharing-dataset\n",
    "- Exploratory Data Analysis\n",
    "- Feature Engineering\n",
    "- Feature Selection\n",
    "- Column/Feature Transformation Pipeline\n",
    "- Build the Entire pipeline with model(Descion Tree Regressor)\n",
    "- Randomized Search\n",
    "- Evaluate the model - https://scikit-learn.org/stable/modules/generated/sklearn.metrics.r2_score.html#sklearn.metrics.r2_score\n",
    "- Save the best model using joblib"
   ]
  },
  {
   "cell_type": "markdown",
   "metadata": {},
   "source": [
    "### THE REGRESSION NOTEBOOK HAS TO BE SIMILAR TO NOTEBOOK `classification_pipeline.ipynb`"
   ]
  },
  {
   "cell_type": "markdown",
   "metadata": {},
   "source": []
  }
 ],
 "metadata": {
  "language_info": {
   "name": "python"
  }
 },
 "nbformat": 4,
 "nbformat_minor": 2
}
